{
 "cells": [
  {
   "cell_type": "code",
   "execution_count": 1,
   "metadata": {},
   "outputs": [
    {
     "name": "stderr",
     "output_type": "stream",
     "text": [
      "22/05/15 10:55:49 WARN Utils: Your hostname, alejandro-hpelitebook840g2 resolves to a loopback address: 127.0.1.1; using 10.8.22.181 instead (on interface wlo1)\n",
      "22/05/15 10:55:49 WARN Utils: Set SPARK_LOCAL_IP if you need to bind to another address\n",
      "Using Spark's default log4j profile: org/apache/spark/log4j-defaults.properties\n",
      "Setting default log level to \"WARN\".\n",
      "To adjust logging level use sc.setLogLevel(newLevel). For SparkR, use setLogLevel(newLevel).\n",
      "22/05/15 10:55:51 WARN NativeCodeLoader: Unable to load native-hadoop library for your platform... using builtin-java classes where applicable\n"
     ]
    }
   ],
   "source": [
    "from pyspark import SparkContext\n",
    "import json\n",
    "\n",
    "sc = SparkContext()"
   ]
  },
  {
   "cell_type": "code",
   "execution_count": 2,
   "metadata": {},
   "outputs": [
    {
     "data": {
      "text/plain": [
       "{'_id': {'$oid': '5cf83b752f3843a016be4e2f'},\n",
       " 'user_day_code': 'e4d55deb9ac172a8d8f5f0a32599815bd51b7c8760d67e42b11adf7c0829341b',\n",
       " 'idplug_base': 21,\n",
       " 'user_type': 1,\n",
       " 'idunplug_base': 8,\n",
       " 'travel_time': 219,\n",
       " 'idunplug_station': 90,\n",
       " 'ageRange': 0,\n",
       " 'idplug_station': 66,\n",
       " 'unplug_hourTime': {'$date': '2019-06-01T00:00:00.000+0200'},\n",
       " 'zip_code': ''}"
      ]
     },
     "execution_count": 2,
     "metadata": {},
     "output_type": "execute_result"
    }
   ],
   "source": [
    "# Viaje de ejemplo\n",
    "s = '{ \"_id\" : { \"$oid\" : \"5cf83b752f3843a016be4e2f\" }, \"user_day_code\" : \"e4d55deb9ac172a8d8f5f0a32599815bd51b7c8760d67e42b11adf7c0829341b\", \"idplug_base\" : 21, \"user_type\" : 1, \"idunplug_base\" : 8, \"travel_time\" : 219, \"idunplug_station\" : 90, \"ageRange\" : 0, \"idplug_station\" : 66, \"unplug_hourTime\" : { \"$date\" : \"2019-06-01T00:00:00.000+0200\" }, \"zip_code\" : \"\" }'\n",
    "data = json.loads(s)\n",
    "data"
   ]
  },
  {
   "cell_type": "code",
   "execution_count": 17,
   "metadata": {},
   "outputs": [
    {
     "data": {
      "text/plain": [
       "1000"
      ]
     },
     "execution_count": 17,
     "metadata": {},
     "output_type": "execute_result"
    }
   ],
   "source": [
    "# RDD base y extraccion de datos\n",
    "\n",
    "text_sample = './05_bicimad/sample_10e3.json'\n",
    "\n",
    "rdd_base = sc.textFile(text_sample)\n",
    "\n",
    "def mapper(line):\n",
    "    data = json.loads(line)\n",
    "    # u_t = data['user_type'] # No se necesita por ahora (?)\n",
    "    u_c = data['user_day_code']\n",
    "    start = data['idunplug_station']\n",
    "    end = data['idplug_station']\n",
    "    time = data['travel_time']\n",
    "    date = data['unplug_hourTime']\n",
    "    return u_c, start, end, time, date\n",
    "\n",
    "rdd = rdd_base.map(mapper)\n",
    "rdd.count()"
   ]
  },
  {
   "cell_type": "markdown",
   "metadata": {},
   "source": [
    "## Análisis 1\n",
    "\n",
    "Lista de viajes en la que se sale y llega al mismo sitio.\n",
    "Salen y vuelven a la misma estación.\n",
    "\n",
    "**Problema**: Ver personas que lo usan con el proposito de dar un paseo\n",
    "\n",
    "*Datos necesarios*:\n",
    "- 'user_day_code'\n",
    "- 'id(un)plug_station'"
   ]
  },
  {
   "cell_type": "code",
   "execution_count": 10,
   "metadata": {},
   "outputs": [],
   "source": [
    "# Filtrar cogiendo solo los que cumplan que \"start = end\"\n",
    "rdd_ciclos = rdd.filter(lambda x: x[1] == x[2])"
   ]
  },
  {
   "cell_type": "code",
   "execution_count": 11,
   "metadata": {},
   "outputs": [
    {
     "data": {
      "text/plain": [
       "22"
      ]
     },
     "execution_count": 11,
     "metadata": {},
     "output_type": "execute_result"
    }
   ],
   "source": [
    "rdd_ciclos.count()"
   ]
  },
  {
   "cell_type": "code",
   "execution_count": 12,
   "metadata": {},
   "outputs": [
    {
     "data": {
      "text/plain": [
       "[('bdfbb7774e97c37e95c79efa9e5f1cba2f6672dbf1f71c1faa2bc89e9e423ae0',\n",
       "  83,\n",
       "  83,\n",
       "  357,\n",
       "  {'$date': '2019-06-01T00:00:00.000+0200'}),\n",
       " ('c199289b53d6909ee2943de60baf3fd465f9ce30251683764ed30febe54b29ef',\n",
       "  48,\n",
       "  48,\n",
       "  520,\n",
       "  {'$date': '2019-06-01T00:00:00.000+0200'}),\n",
       " ('d13cad5bd193759211b8c179566df5bce0d60530fe3901ceb6c777353a8dd0b6',\n",
       "  58,\n",
       "  58,\n",
       "  431,\n",
       "  {'$date': '2019-06-01T00:00:00.000+0200'}),\n",
       " ('bf2b917be58d51896b51e3892b7c6cf4fa9d10e56e645be45a5328f8b5648d40',\n",
       "  39,\n",
       "  39,\n",
       "  921,\n",
       "  {'$date': '2019-06-01T00:00:00.000+0200'}),\n",
       " ('72c4d5ae9ffe74250e24f097428e68286a2508dfa3c5a3edb18a5778c917680b',\n",
       "  42,\n",
       "  42,\n",
       "  954,\n",
       "  {'$date': '2019-06-01T00:00:00.000+0200'}),\n",
       " ('f9f2fc299f6d7c7f6e2305eb757a8737c4a24396b8512af9ad800d3dc192eb21',\n",
       "  106,\n",
       "  106,\n",
       "  2256,\n",
       "  {'$date': '2019-06-01T00:00:00.000+0200'}),\n",
       " ('619aa4734bf1670c0746fef949f7608234983082331854d4b6a54b9053c34234',\n",
       "  106,\n",
       "  106,\n",
       "  2266,\n",
       "  {'$date': '2019-06-01T00:00:00.000+0200'}),\n",
       " ('78544a2c490c114d10242b8d28c624cd1e9551e177869f294ed78cbad3f41358',\n",
       "  13,\n",
       "  13,\n",
       "  717,\n",
       "  {'$date': '2019-06-01T00:00:00.000+0200'}),\n",
       " ('42b1bb7553f7fcf3063e8936f26d8971a2d5751c8dc767516e7cefffa5f955dd',\n",
       "  57,\n",
       "  57,\n",
       "  567,\n",
       "  {'$date': '2019-06-01T00:00:00.000+0200'}),\n",
       " ('7e24aa5c9935c6981706d3e1aa9e957918455f6d286cc3b8ecb993caa69a2ea9',\n",
       "  53,\n",
       "  53,\n",
       "  1272,\n",
       "  {'$date': '2019-06-01T00:00:00.000+0200'}),\n",
       " ('1d7ac5cf35cf3e7588a3997d3112e4700b4610e9cd5edea9d2a424796ec28b32',\n",
       "  44,\n",
       "  44,\n",
       "  1830,\n",
       "  {'$date': '2019-06-01T00:00:00.000+0200'}),\n",
       " ('132bbe5de81af8c1ce08f8177859a53f8df91d77f97c706e3477131fa6e6893d',\n",
       "  83,\n",
       "  83,\n",
       "  2596,\n",
       "  {'$date': '2019-06-01T00:00:00.000+0200'}),\n",
       " ('9be5f7bc39ceb1e2dde66cb748a3f38fb6bb807db43f33467e54765977ce3303',\n",
       "  128,\n",
       "  128,\n",
       "  5477,\n",
       "  {'$date': '2019-06-01T00:00:00.000+0200'}),\n",
       " ('0acddf10f284d73a4c251c7490a50d9050f6c60d6e06c20dbfd3d18f9392277e',\n",
       "  143,\n",
       "  143,\n",
       "  2857,\n",
       "  {'$date': '2019-06-01T00:00:00.000+0200'}),\n",
       " ('0bd41a29017525993fd2f90bc2b2b18fc4c763deff5d008ca8452355b9c87230',\n",
       "  102,\n",
       "  102,\n",
       "  425,\n",
       "  {'$date': '2019-06-01T00:00:00.000+0200'}),\n",
       " ('c6c3373c022da5e828d54691891bbb96289719a992ac2119d3dd478a12ea063e',\n",
       "  60,\n",
       "  60,\n",
       "  689,\n",
       "  {'$date': '2019-06-01T01:00:00.000+0200'}),\n",
       " ('4cdb1b6ad690fd22b6ab696e30ec0df064c664907ca3b8cf9f0d03d0dbca0df0',\n",
       "  160,\n",
       "  160,\n",
       "  155,\n",
       "  {'$date': '2019-06-01T01:00:00.000+0200'}),\n",
       " ('91d9fd874b55868c13ce72a7a610c3f52d1ff5877b2f5df5e2fc024a94880d43',\n",
       "  168,\n",
       "  168,\n",
       "  13,\n",
       "  {'$date': '2019-06-01T01:00:00.000+0200'}),\n",
       " ('8e65581f83ac6a80873aa5ac31a3979a64d6ae3328253813433ef31973353ceb',\n",
       "  123,\n",
       "  123,\n",
       "  317,\n",
       "  {'$date': '2019-06-01T01:00:00.000+0200'}),\n",
       " ('acdfb28772892164b2e10e47b6ec2309fba28fd885cc9143275d2a81e59d7898',\n",
       "  169,\n",
       "  169,\n",
       "  1419,\n",
       "  {'$date': '2019-06-01T01:00:00.000+0200'}),\n",
       " ('311725f1fc09145d2520911d22d15397c87c2cadaccda965a939ed47efaa51e0',\n",
       "  129,\n",
       "  129,\n",
       "  23,\n",
       "  {'$date': '2019-06-01T01:00:00.000+0200'}),\n",
       " ('3d06085a1284c36e78486b56db16cc89e75f2e7dd56d4bf6372380a69ec52866',\n",
       "  42,\n",
       "  42,\n",
       "  373,\n",
       "  {'$date': '2019-06-01T01:00:00.000+0200'})]"
      ]
     },
     "execution_count": 12,
     "metadata": {},
     "output_type": "execute_result"
    }
   ],
   "source": [
    "rdd_ciclos.collect()"
   ]
  },
  {
   "cell_type": "markdown",
   "metadata": {},
   "source": [
    "## Análisis 2\n",
    "\n",
    "Tiempo medio de viaje.\n",
    "  Media de la duración por viaje individual.\n",
    "\n",
    "Uso medio de los usuarios.\n",
    "  Media de todos uso por identificación.\n",
    "\n",
    "*Datos necesarios*:\n",
    "- 'user_day_code'\n",
    "- 'id(un)plug_station'\n",
    "- 'travel_time'\n",
    "\n",
    "Mas ideas:\n",
    "- Ranking de viajes mas largos y mas cortos en tiempo.\n",
    "- Mediana y otras medidas estadisticas (?)"
   ]
  },
  {
   "cell_type": "markdown",
   "metadata": {},
   "source": [
    "### Tiempo medio por viaje"
   ]
  },
  {
   "cell_type": "code",
   "execution_count": 18,
   "metadata": {},
   "outputs": [
    {
     "name": "stdout",
     "output_type": "stream",
     "text": [
      "viajes: 1000\n",
      "tiempo: 904235\n",
      "media por viaje: 904.235 segundos (?)\n"
     ]
    }
   ],
   "source": [
    "rdd_travelTime = rdd.map(lambda x: x[3])\n",
    "\n",
    "total_travels = rdd_travelTime.count()\n",
    "total_travelTime = rdd_travelTime.sum()\n",
    "average_travelTime = total_travelTime/total_travels\n",
    "\n",
    "print(f'viajes: {total_travels}')\n",
    "print(f'tiempo: {total_travelTime}')\n",
    "print(f'media por viaje: {average_travelTime} segundos (?)')"
   ]
  },
  {
   "cell_type": "markdown",
   "metadata": {},
   "source": [
    "### Tiempo medio por identificador (persona)"
   ]
  },
  {
   "cell_type": "code",
   "execution_count": 25,
   "metadata": {},
   "outputs": [
    {
     "name": "stdout",
     "output_type": "stream",
     "text": [
      "viajes por id: 926\n",
      "tiempo: 904235\n",
      "media por viaje: 976.4956803455724 segundos/persona (?)\n"
     ]
    }
   ],
   "source": [
    "rdd_travelTime_id = rdd.map(lambda x: (x[0], x[3]))\\\n",
    "                        .groupByKey()\\\n",
    "                        .mapValues(sum)\\\n",
    "                        .map(lambda x: x[1])\n",
    "\n",
    "total_travels_id = rdd_travelTime_id.count()\n",
    "total_travelTime_id = rdd_travelTime_id.sum()\n",
    "average_travelTime_id = total_travelTime_id/total_travels_id\n",
    "\n",
    "print(f'viajes por id: {total_travels_id}')\n",
    "print(f'tiempo: {total_travelTime_id}')\n",
    "print(f'media por viaje: {average_travelTime_id} segundos/persona (?)')"
   ]
  },
  {
   "cell_type": "code",
   "execution_count": null,
   "metadata": {},
   "outputs": [],
   "source": [
    "\"\"\"\n",
    "Analisis ?:\n",
    "Gráfica con usos por cada mes. Tanto por viajes como por persona (es decir, con identificador único)\n",
    "\n",
    "  Datos necesarios:\n",
    "    - 'user_day_code'\n",
    "    - 'unplug_hourTime'\n",
    "\"\"\""
   ]
  }
 ],
 "metadata": {
  "interpreter": {
   "hash": "e7370f93d1d0cde622a1f8e1c04877d8463912d04d973331ad4851f04de6915a"
  },
  "kernelspec": {
   "display_name": "Python 3.10.4 64-bit",
   "language": "python",
   "name": "python3"
  },
  "language_info": {
   "codemirror_mode": {
    "name": "ipython",
    "version": 3
   },
   "file_extension": ".py",
   "mimetype": "text/x-python",
   "name": "python",
   "nbconvert_exporter": "python",
   "pygments_lexer": "ipython3",
   "version": "3.10.4"
  },
  "orig_nbformat": 4
 },
 "nbformat": 4,
 "nbformat_minor": 2
}
