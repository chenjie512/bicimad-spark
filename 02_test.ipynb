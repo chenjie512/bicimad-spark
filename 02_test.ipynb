{
 "cells": [
  {
   "cell_type": "code",
   "execution_count": 14,
   "metadata": {},
   "outputs": [
    {
     "name": "stderr",
     "output_type": "stream",
     "text": [
      "22/05/20 18:56:12 WARN Utils: Service 'SparkUI' could not bind on port 4040. Attempting port 4041.\n"
     ]
    }
   ],
   "source": [
    "from pyspark import SparkContext\n",
    "import json\n",
    "\n",
    "sc = SparkContext()"
   ]
  },
  {
   "cell_type": "code",
   "execution_count": 12,
   "metadata": {},
   "outputs": [],
   "source": [
    "#sc.stop()"
   ]
  },
  {
   "cell_type": "code",
   "execution_count": 16,
   "metadata": {},
   "outputs": [
    {
     "name": "stderr",
     "output_type": "stream",
     "text": [
      "                                                                                \r"
     ]
    },
    {
     "data": {
      "text/plain": [
       "351289"
      ]
     },
     "execution_count": 16,
     "metadata": {},
     "output_type": "execute_result"
    }
   ],
   "source": [
    "# RDD base y extraccion de datos\n",
    "\n",
    "text_sample = '201707_movements.json'\n",
    "\n",
    "rdd_base = sc.textFile(text_sample)\n",
    "\n",
    "def mapper(line):\n",
    "    data = json.loads(line)\n",
    "    # u_t = data['user_type'] # No se necesita por ahora (?)\n",
    "    u_c = data['user_day_code']\n",
    "    start = data['idunplug_station']\n",
    "    end = data['idplug_station']\n",
    "    time = data['travel_time']\n",
    "    date = data['unplug_hourTime']\n",
    "    return u_c, start, end, time, date\n",
    "\n",
    "rdd = rdd_base.map(mapper)\n",
    "rdd.count()"
   ]
  },
  {
   "cell_type": "code",
   "execution_count": 44,
   "metadata": {},
   "outputs": [
    {
     "name": "stdout",
     "output_type": "stream",
     "text": [
      "[('09a2f5ddbd53f1c6c529fdf1e3d60fc77001b5d41bd21806e09d40d8ae80fb33', 13, 61, 239, {'$date': '2017-07-01T01:00:00.000+0200'}), ('f26e11fcb5aba6bfc136af58a61cb962c7e8cef0e593c8910bcb9883a4f38f14', 31, 44, 284, {'$date': '2017-07-01T01:00:00.000+0200'}), ('86ef0681c2017e7c95986f5be1490c7027c9608fd29acc8967dcd6c33030361d', 14, 13, 109, {'$date': '2017-07-01T01:00:00.000+0200'}), ('d46189d811469cad39c5f227847d7bfcfe7e27aac0777cd3b7b0f0f7245e42e8', 127, 89, 338, {'$date': '2017-07-01T01:00:00.000+0200'}), ('739b535771ba572318e3f7a761eaa57ad1be934156bd228a6c1fa702068518c6', 85, 69, 333, {'$date': '2017-07-01T01:00:00.000+0200'}), ('529a25e25e2ad97e5d6eec918d63dc340f36ed1881c68fb599b16657aa0dc604', 101, 107, 70, {'$date': '2017-07-01T01:00:00.000+0200'}), ('058a5fd335215c4fb560c19d5bfe464557d4b63a2f212fdc05313c937d11a185', 38, 175, 222, {'$date': '2017-07-01T01:00:00.000+0200'}), ('5b94380a0a97064949882478239f17737edcac8d1f8c91a6c85959b54d6ea0e6', 26, 13, 239, {'$date': '2017-07-01T01:00:00.000+0200'}), ('b011fe65fa67a5bc74c7b154694586adb8f4614d8672ef9b02ca0fcd9884a8b7', 57, 134, 207, {'$date': '2017-07-01T01:00:00.000+0200'}), ('f6589d80716913180e1b7f9a72e139c25fc61a2d3994f5c7b13db5597724ab6c', 40, 132, 622, {'$date': '2017-07-01T01:00:00.000+0200'})]\n"
     ]
    }
   ],
   "source": [
    "print(rdd.take(10))"
   ]
  },
  {
   "cell_type": "code",
   "execution_count": 86,
   "metadata": {},
   "outputs": [
    {
     "name": "stderr",
     "output_type": "stream",
     "text": [
      "                                                                                \r"
     ]
    }
   ],
   "source": [
    "rdd_day = rdd.map(lambda x: (x[4]['$date'][8:10], _)).countByKey()\n"
   ]
  },
  {
   "cell_type": "code",
   "execution_count": 85,
   "metadata": {},
   "outputs": [
    {
     "name": "stdout",
     "output_type": "stream",
     "text": [
      "01\n"
     ]
    }
   ],
   "source": [
    "test = rdd.take(1)\n",
    "print(test[0][4]['$date'][8:10])"
   ]
  },
  {
   "cell_type": "code",
   "execution_count": 87,
   "metadata": {},
   "outputs": [
    {
     "name": "stdout",
     "output_type": "stream",
     "text": [
      "defaultdict(<class 'int'>, {'01': 8856, '02': 8420, '03': 12873, '04': 14057, '05': 14347, '06': 6925, '07': 8548, '08': 8695, '09': 9058, '10': 13155, '11': 13739, '12': 14113, '13': 13396, '14': 12415, '15': 8520, '16': 8264, '17': 12507, '18': 13183, '19': 13469, '20': 13688, '21': 12876, '22': 8856, '23': 7899, '24': 12380, '25': 13173, '26': 13395, '27': 13991, '28': 12581, '29': 8543, '30': 7788, '31': 11579})\n"
     ]
    }
   ],
   "source": [
    "print(rdd_day)"
   ]
  },
  {
   "cell_type": "code",
   "execution_count": 56,
   "metadata": {},
   "outputs": [],
   "source": [
    "import matplotlib.pyplot as plt"
   ]
  },
  {
   "cell_type": "code",
   "execution_count": 103,
   "metadata": {},
   "outputs": [
    {
     "data": {
      "image/png": "[encoded data removed]",
      "text/plain": [
       "<Figure size 1080x576 with 1 Axes>"
      ]
     },
     "metadata": {
      "needs_background": "light"
     },
     "output_type": "display_data"
    }
   ],
   "source": [
    "days = rdd_day.keys()\n",
    "num_usage = rdd_day.values()\n",
    "\n",
    "plt.figure(figsize=(15,8))\n",
    "plt.bar(days, num_usage)\n",
    "plt.ylabel('Número de usos')\n",
    "plt.xlabel('Días')\n",
    "plt.title('Uso por días')\n",
    "\n",
    "\n",
    "plt.show()"
   ]
  },
  {
   "cell_type": "code",
   "execution_count": null,
   "metadata": {},
   "outputs": [],
   "source": []
  },
  {
   "cell_type": "code",
   "execution_count": 69,
   "metadata": {},
   "outputs": [
    {
     "name": "stdout",
     "output_type": "stream",
     "text": [
      "dict_items([('2017-07-01', 8856), ('2017-07-02', 8420), ('2017-07-03', 12873), ('2017-07-04', 14057), ('2017-07-05', 14347), ('2017-07-06', 6925), ('2017-07-07', 8548), ('2017-07-08', 8695), ('2017-07-09', 9058), ('2017-07-10', 13155), ('2017-07-11', 13739), ('2017-07-12', 14113), ('2017-07-13', 13396), ('2017-07-14', 12415), ('2017-07-15', 8520), ('2017-07-16', 8264), ('2017-07-17', 12507), ('2017-07-18', 13183), ('2017-07-19', 13469), ('2017-07-20', 13688), ('2017-07-21', 12876), ('2017-07-22', 8856), ('2017-07-23', 7899), ('2017-07-24', 12380), ('2017-07-25', 13173), ('2017-07-26', 13395), ('2017-07-27', 13991), ('2017-07-28', 12581), ('2017-07-29', 8543), ('2017-07-30', 7788), ('2017-07-31', 11579)])\n"
     ]
    }
   ],
   "source": []
  },
  {
   "cell_type": "code",
   "execution_count": null,
   "metadata": {},
   "outputs": [],
   "source": []
  }
 ],
 "metadata": {
  "interpreter": {
   "hash": "e7370f93d1d0cde622a1f8e1c04877d8463912d04d973331ad4851f04de6915a"
  },
  "kernelspec": {
   "display_name": "Python 3 (ipykernel)",
   "language": "python",
   "name": "python3"
  },
  "language_info": {
   "codemirror_mode": {
    "name": "ipython",
    "version": 3
   },
   "file_extension": ".py",
   "mimetype": "text/x-python",
   "name": "python",
   "nbconvert_exporter": "python",
   "pygments_lexer": "ipython3",
   "version": "3.7.3"
  }
 },
 "nbformat": 4,
 "nbformat_minor": 4
}
