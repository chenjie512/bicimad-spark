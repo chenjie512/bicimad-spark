{
 "cells": [
  {
   "cell_type": "markdown",
   "metadata": {},
   "source": [
    "# BICIMAD SPARK\n",
    "Sara Antón Fernández \\\n",
    "Chenjie Huang \\\n",
    "Alejandro Leal Castaño"
   ]
  },
  {
   "cell_type": "markdown",
   "metadata": {},
   "source": [
    "## Motivación\n",
    "A partir de los datos de BICIMAD del mes de julio de 2017 y utilizando spark vamos a analizar:\n",
    "- La lista de viajes en los que se sale y llega al mismo sitio (misma estación de salida y llegada).\n",
    "- Duración media de viaje y uso medio por usuario al dia.\n",
    "- Cuales son los viajes más largos y más cortos.\n",
    "- Las estaciones más concurridas (salida y llegada).\n",
    "- Estudio de los usos por cada día por medio de una gráfica.\n",
    "- Estudio de los usos según la edad por medio de una gráfica."
   ]
  },
  {
   "cell_type": "code",
   "execution_count": 2,
   "metadata": {},
   "outputs": [
    {
     "name": "stderr",
     "output_type": "stream",
     "text": [
      "22/05/21 11:19:46 WARN Utils: Your hostname, alejandro-hpelitebook840g2 resolves to a loopback address: 127.0.1.1; using 10.8.22.181 instead (on interface wlo1)\n",
      "22/05/21 11:19:46 WARN Utils: Set SPARK_LOCAL_IP if you need to bind to another address\n",
      "Using Spark's default log4j profile: org/apache/spark/log4j-defaults.properties\n",
      "Setting default log level to \"WARN\".\n",
      "To adjust logging level use sc.setLogLevel(newLevel). For SparkR, use setLogLevel(newLevel).\n",
      "22/05/21 11:19:47 WARN NativeCodeLoader: Unable to load native-hadoop library for your platform... using builtin-java classes where applicable\n"
     ]
    }
   ],
   "source": [
    "from pyspark import SparkContext\n",
    "import json\n",
    "\n",
    "sc = SparkContext()"
   ]
  },
  {
   "cell_type": "code",
   "execution_count": 3,
   "metadata": {},
   "outputs": [
    {
     "name": "stderr",
     "output_type": "stream",
     "text": [
      "                                                                                \r"
     ]
    },
    {
     "data": {
      "text/plain": [
       "351289"
      ]
     },
     "execution_count": 3,
     "metadata": {},
     "output_type": "execute_result"
    }
   ],
   "source": [
    "# RDD base y extraccion de datos\n",
    "\n",
    "text_sample = '201707_movements.json'\n",
    "\n",
    "rdd_base = sc.textFile(text_sample)\n",
    "\n",
    "def mapper(line):\n",
    "    data = json.loads(line)\n",
    "    # u_t = data['user_type']\n",
    "    u_c = data['user_day_code']\n",
    "    start = data['idunplug_station']\n",
    "    end = data['idplug_station']\n",
    "    time = data['travel_time']\n",
    "    date = data['unplug_hourTime']\n",
    "    u_a = data['ageRange']\n",
    "    return u_c, start, end, time, date, u_a\n",
    "\n",
    "rdd = rdd_base.map(mapper)\n",
    "rdd.count()"
   ]
  },
  {
   "cell_type": "markdown",
   "metadata": {},
   "source": [
    "## Análisis 1\n",
    "\n",
    "Lista de viajes en la que se sale y llega al mismo sitio.\n",
    "Salen y vuelven a la misma estación.\n",
    "\n",
    "Una de las posibles interpretaciones de este resultado es comprobar la cantidad de personas usan este servicio con el propósito de dar un paseo o entrenar.\n",
    "\n",
    "**Datos necesarios**:\n",
    "- 'idplug_station'\n",
    "- 'idunplug_station'\n"
   ]
  },
  {
   "cell_type": "code",
   "execution_count": 16,
   "metadata": {},
   "outputs": [
    {
     "name": "stderr",
     "output_type": "stream",
     "text": [
      "                                                                                \r"
     ]
    },
    {
     "data": {
      "text/plain": [
       "22085"
      ]
     },
     "execution_count": 16,
     "metadata": {},
     "output_type": "execute_result"
    }
   ],
   "source": [
    "# Filtrar cogiendo solo los que cumplan que \"start = end\"\n",
    "rdd_ciclos = rdd.filter(lambda x: x[1] == x[2])\n",
    "rdd_ciclos.count()"
   ]
  },
  {
   "cell_type": "markdown",
   "metadata": {},
   "source": [
    "## Análisis 2\n",
    "\n",
    "En este segundo análisis se obtendrán las medias de duración por viaje (sin tener en cuenta si una persona realiza más de un viaje) y de uso por persona en el día.\n",
    "\n",
    "**Datos necesarios**:\n",
    "- 'user_day_code'\n",
    "- 'travel_time'"
   ]
  },
  {
   "cell_type": "markdown",
   "metadata": {},
   "source": [
    "### Tiempo medio por viaje\n",
    "\n",
    "En este caso, basta simplemente con tomar el tiempo de viaje y calcular los totales para la media."
   ]
  },
  {
   "cell_type": "code",
   "execution_count": 21,
   "metadata": {},
   "outputs": [
    {
     "name": "stderr",
     "output_type": "stream",
     "text": [
      "[Stage 62:===================================================>    (23 + 2) / 25]\r"
     ]
    },
    {
     "name": "stdout",
     "output_type": "stream",
     "text": [
      "Viajes: 351289\n",
      "Duración total: 121464.96 horas\n",
      "Media por viaje: 20.75 minutos\n"
     ]
    },
    {
     "name": "stderr",
     "output_type": "stream",
     "text": [
      "                                                                                \r"
     ]
    }
   ],
   "source": [
    "rdd_travelTime = rdd.map(lambda x: x[3])\n",
    "\n",
    "total_travels = rdd_travelTime.count()\n",
    "total_travelTime = rdd_travelTime.sum()\n",
    "average_travelTime = total_travelTime/total_travels\n",
    "\n",
    "print(f'Viajes: {total_travels}')\n",
    "print('Duración total: ' + format(total_travelTime/3600, \".2f\") + ' horas')\n",
    "print('Media por viaje: ' + format(average_travelTime/60, \".2f\") + ' minutos')"
   ]
  },
  {
   "cell_type": "markdown",
   "metadata": {},
   "source": [
    "### Tiempo medio por identificador diario (persona)\n",
    "\n",
    "En ese caso se toma como clave el identificador y como valor la duración del viaje. Después se agrupa por clave y se suman todas las duraciones de los viajes con mapValues. Por último, se toman únicamente los valores para calcular la media por persona en el día."
   ]
  },
  {
   "cell_type": "code",
   "execution_count": 19,
   "metadata": {},
   "outputs": [
    {
     "name": "stderr",
     "output_type": "stream",
     "text": [
      "[Stage 53:=================================================>      (22 + 3) / 25]\r"
     ]
    },
    {
     "name": "stdout",
     "output_type": "stream",
     "text": [
      "Personas (id): 184696\n",
      "Duración total: 121464.95555555556 horas\n",
      "Media por persona: 39.46 minutos\n"
     ]
    },
    {
     "name": "stderr",
     "output_type": "stream",
     "text": [
      "                                                                                \r"
     ]
    }
   ],
   "source": [
    "rdd_travelTime_id = rdd.map(lambda x: (x[0], x[3]))\\\n",
    "                        .groupByKey()\\\n",
    "                        .mapValues(sum)\\\n",
    "                        .values()\n",
    "\n",
    "total_travels_id = rdd_travelTime_id.count()\n",
    "total_travelTime_id = rdd_travelTime_id.sum()\n",
    "average_travelTime_id = total_travelTime_id/total_travels_id\n",
    "\n",
    "print(f'Personas (id): {total_travels_id}')\n",
    "print('Duración total: ' + format(total_travelTime_id/3600, \".2f\") + ' horas')\n",
    "print('Media por persona: ' + format(average_travelTime_id/60, \".2f\") + ' minutos')"
   ]
  },
  {
   "cell_type": "markdown",
   "metadata": {},
   "source": [
    "## Análisis 3\n",
    "\n",
    "Ahora se pretende visualizar los viajes más largos y más cortos que se han realizado, filtrando aquellos que no sean correctos o no sean representativos con lo que se desea obtener.\n",
    "\n",
    "\\\n",
    "**Datos necesarios**:\n",
    "- 'travel_time'\n",
    "\n",
    "\\\n",
    "Procedimiento:\n",
    "- Filtramos para eliminar los viajes que duren más de 24 horas y los viajes que duren menos de 15 segundos y además las estaciones de salida y llegada no coincidan. Esto permite eliminar viajes en los que no se haya devuelto la bicicleta después de usarla y datos que no son correctos (ya que no es verosímil que un viaje entre 2 estaciones distintas dure tan poco).\n",
    "- Tomamos los 10 viajes más largos y más cortos en cada caso."
   ]
  },
  {
   "cell_type": "code",
   "execution_count": 24,
   "metadata": {},
   "outputs": [
    {
     "name": "stderr",
     "output_type": "stream",
     "text": [
      "                                                                                \r"
     ]
    }
   ],
   "source": [
    "rdd_filter_dur = rdd.filter(lambda x: x[3] <= 86400 and not (x[1] != x[2] and x[3] <= 15))\n",
    "                \n",
    "rdd_llt = rdd_filter_dur.sortBy(lambda x: -x[3]).take(10)\n",
    "rdd_lst = rdd_filter_dur.sortBy(lambda x: x[3]).take(10)"
   ]
  },
  {
   "cell_type": "code",
   "execution_count": 26,
   "metadata": {},
   "outputs": [
    {
     "name": "stdout",
     "output_type": "stream",
     "text": [
      "[('281b6faae5256582c9504bd2569ddb85c0aa2e3ef65025c1e28cb4e4ac61b947', 169, 128, 86313, {'$date': '2017-07-16T08:00:00.000+0200'}, 1), ('1e4ed5e958a1cc8f850de6c6a5c532ee1440b94580bf99edf614d1e242db62a2', 133, 163, 85851, {'$date': '2017-07-17T08:00:00.000+0200'}, 1), ('d8fe1e5bda6dcd4d03053cc75e926502b1c66a63edcd2b42eda0127eca8806bd', 44, 86, 85324, {'$date': '2017-07-29T16:00:00.000+0200'}, 5), ('206caa6bb26bca817c233b71cc10ad4b647feb597714ace7abb649c49e52ee12', 13, 58, 84006, {'$date': '2017-07-15T08:00:00.000+0200'}, 4), ('9375169669c50d81051f74396bdcf15f29c90b97d3530659f9961c74c5230d0b', 79, 108, 82562, {'$date': '2017-07-12T17:00:00.000+0200'}, 3), ('9375169669c50d81051f74396bdcf15f29c90b97d3530659f9961c74c5230d0b', 79, 108, 82053, {'$date': '2017-07-12T17:00:00.000+0200'}, 3), ('ad582db59bf542a347cf1281b2a696a932bc81b3f1b38bf44be2fdf399dc8a00', 89, 41, 79971, {'$date': '2017-07-24T09:00:00.000+0200'}, 4), ('d4666c4ad07c5fdcf96ce90e033680b37c2b845b269dc50ac5063ecbee70795e', 21, 95, 79935, {'$date': '2017-07-04T18:00:00.000+0200'}, 4), ('fcabf654fcf8e8179622f9a8dba9b1c71e85c8a7cf04b3cf298e9841e86ea956', 103, 137, 79579, {'$date': '2017-07-11T05:00:00.000+0200'}, 5), ('72907059c925183b238bae43f775932e56e400bf81129cab041784df86369bc5', 134, 79, 78054, {'$date': '2017-07-25T10:00:00.000+0200'}, 4)] \n",
      "\n",
      "[('e14bf6c9bff5f780de6fee6455bff559db2259ca39d3664a9ea47f05cffc4c14', 140, 140, 2, {'$date': '2017-07-01T18:00:00.000+0200'}, 3), ('15cbe4ff48969bca22476e03ef5d03a759d0f22fca2e57971f016e516fc79f91', 75, 75, 2, {'$date': '2017-07-02T15:00:00.000+0200'}, 4), ('f3518b8d65e104509c4b98d7bc2611f636c7dfcdf05779a3eb9413b8820091ce', 12, 12, 2, {'$date': '2017-07-04T08:00:00.000+0200'}, 1), ('27bdbbed38d86b7a432f2d0e4e3ea72a6722b692fa4996485d5928147fc1239e', 122, 122, 2, {'$date': '2017-07-06T13:00:00.000+0200'}, 1), ('b106cb012a3dcb72ae50d466dd831a355d040a1646c4f87eb3e2ab6a8fdc8580', 13, 13, 2, {'$date': '2017-07-06T19:00:00.000+0200'}, 1), ('092af2741ca91d045802e7156108b27904a04e095a7a2ea9407503c008ac3435', 168, 168, 2, {'$date': '2017-07-08T09:00:00.000+0200'}, 4), ('906547461359d84ec4d8d649d8e0be06fd5213f33beb43351e2647dfe64304a0', 144, 144, 2, {'$date': '2017-07-09T19:00:00.000+0200'}, 0), ('906547461359d84ec4d8d649d8e0be06fd5213f33beb43351e2647dfe64304a0', 144, 144, 2, {'$date': '2017-07-09T19:00:00.000+0200'}, 0), ('a8876046e6cb2ee04c9a814060604579188c924a83d5a3b94ad5e9b076d9ef55', 58, 58, 2, {'$date': '2017-07-11T08:00:00.000+0200'}, 4), ('a8876046e6cb2ee04c9a814060604579188c924a83d5a3b94ad5e9b076d9ef55', 58, 58, 2, {'$date': '2017-07-11T08:00:00.000+0200'}, 4)]\n"
     ]
    }
   ],
   "source": [
    "print(rdd_llt, '\\n')\n",
    "print(rdd_lst)"
   ]
  },
  {
   "cell_type": "markdown",
   "metadata": {},
   "source": [
    "## Análisis 4\n",
    "\n",
    "Este análisis tiene como objetivo estudiar cuáles son las estaciones mas concurridas. Esto permite ver qué estaciones son más propensas a necesitar bicicletas o sea necesario redistribuirlas en otras estaciones por la afluencia de viajes de llegada a dichas estaciones.\n",
    "\n",
    "\\\n",
    "**Datos necesarios**:\n",
    "- 'idplug_station'\n",
    "- 'idunplug_station'\n",
    "\n",
    "\\\n",
    "Procedimiento:\n",
    "- Hacemos un map para tomar las estaciones de salida y entrada.\n",
    "- Con mapValues(sum) calculamos la cantidad de bicicletas que han salido / entrado en dichas estaciones.\n",
    "- Ordenamos por valor y obtenemos una lista de tuplas donde el primer elemento es la estación y el segundo el número de viajes que empiezan o salen de dicha estación. "
   ]
  },
  {
   "cell_type": "code",
   "execution_count": 10,
   "metadata": {},
   "outputs": [
    {
     "name": "stderr",
     "output_type": "stream",
     "text": [
      "                                                                                \r"
     ]
    },
    {
     "name": "stdout",
     "output_type": "stream",
     "text": [
      "[(43, 5491), (163, 5070), (57, 4853), (135, 4474), (129, 4331), (90, 3847), (168, 3776), (132, 3754), (149, 3740), (45, 3621)]\n"
     ]
    },
    {
     "name": "stderr",
     "output_type": "stream",
     "text": [
      "[Stage 32:=================================================>      (22 + 3) / 25]\r"
     ]
    },
    {
     "name": "stdout",
     "output_type": "stream",
     "text": [
      "[(43, 5521), (163, 5099), (57, 4826), (135, 4739), (129, 4440), (168, 3939), (132, 3808), (90, 3808), (149, 3772), (45, 3685)]\n"
     ]
    },
    {
     "name": "stderr",
     "output_type": "stream",
     "text": [
      "                                                                                \r"
     ]
    }
   ],
   "source": [
    "\n",
    "rdd_stations_out = rdd.map(lambda x: (x[1], 1))\\\n",
    "                        .groupByKey()\\\n",
    "                        .mapValues(sum)\\\n",
    "                        .sortBy(lambda x: x[1], ascending=False)\n",
    "\n",
    "rdd_stations_in = rdd.map(lambda x: (x[2], 1))\\\n",
    "                        .groupByKey()\\\n",
    "                        .mapValues(sum)\\\n",
    "                        .sortBy(lambda x: x[1], ascending=False)\n",
    "\n",
    "print(rdd_stations_out.take(10))\n",
    "print(rdd_stations_in.take(10))"
   ]
  },
  {
   "cell_type": "markdown",
   "metadata": {},
   "source": [
    "## Análisis 5\n",
    "\n",
    "Se pretende ahora hacer una gráfica con los usos o viajes que se han producido a lo largo de un mes con el objetivo de observar tendencias dependiendo del día de la semana.\n",
    "\n",
    "Estos datos se pueden usar para mejorar la coordinación entre los trabajadores de la empresa.\n",
    "\n",
    "\\\n",
    "**Datos necesarios**:\n",
    "- 'unplug_hourTime'\n",
    "\n",
    "\\\n",
    "Procedimiento:\n",
    "- Hacer un map con un lambda para crear una tupla con los días como clave.\n",
    "- Hacer un countByKey para tener como valor la cantidad de viajes que se hacen por día. Así tenemos un diccionario donde las claves son los días y los valores son la cantidad de viajes realizados en ese día."
   ]
  },
  {
   "cell_type": "code",
   "execution_count": 11,
   "metadata": {},
   "outputs": [
    {
     "name": "stderr",
     "output_type": "stream",
     "text": [
      "[Stage 37:=================================================>      (22 + 3) / 25]\r"
     ]
    },
    {
     "name": "stdout",
     "output_type": "stream",
     "text": [
      "defaultdict(<class 'int'>, {'01': 8856, '02': 8420, '03': 12873, '04': 14057, '05': 14347, '06': 6925, '07': 8548, '08': 8695, '09': 9058, '10': 13155, '11': 13739, '12': 14113, '13': 13396, '14': 12415, '15': 8520, '16': 8264, '17': 12507, '18': 13183, '19': 13469, '20': 13688, '21': 12876, '22': 8856, '23': 7899, '24': 12380, '25': 13173, '26': 13395, '27': 13991, '28': 12581, '29': 8543, '30': 7788, '31': 11579})\n"
     ]
    },
    {
     "name": "stderr",
     "output_type": "stream",
     "text": [
      "                                                                                \r"
     ]
    }
   ],
   "source": [
    "dict_day = rdd.map(lambda x: (x[4]['$date'][8:10], _))\\\n",
    "                .countByKey()\n",
    "\n",
    "print(dict_day)"
   ]
  },
  {
   "cell_type": "markdown",
   "metadata": {},
   "source": [
    "Importamos la librería matplotlib.pyplot. Ponemos los días en el eje x y la cantidad de viajes en el eje y."
   ]
  },
  {
   "cell_type": "code",
   "execution_count": 12,
   "metadata": {},
   "outputs": [],
   "source": [
    "import matplotlib.pyplot as plt"
   ]
  },
  {
   "cell_type": "code",
   "execution_count": 13,
   "metadata": {},
   "outputs": [
    {
     "data": {
      "image/png": "[encoded data removed]",
      "text/plain": [
       "<Figure size 1080x576 with 1 Axes>"
      ]
     },
     "metadata": {
      "needs_background": "light"
     },
     "output_type": "display_data"
    }
   ],
   "source": [
    "days = dict_day.keys()\n",
    "num_usage = dict_day.values()\n",
    "\n",
    "plt.figure(figsize=(15,8))\n",
    "plt.bar(days, num_usage)\n",
    "plt.ylabel('Número de usos')\n",
    "plt.xlabel('Días')\n",
    "plt.title('Uso por días')\n",
    "\n",
    "plt.show()"
   ]
  },
  {
   "cell_type": "markdown",
   "metadata": {},
   "source": [
    "Como se puede observar, la tendencia de uso se ve incrementado en tramos de 5 días que se corresponden con días laborales/hábiles mientras que se reduce el uso de biciMAD en días como el sábado o domingo. "
   ]
  },
  {
   "cell_type": "markdown",
   "metadata": {},
   "source": [
    "## Análisis 6\n",
    "\n",
    "El objetivo de este estudio consiste en encontrar en qué rango de edades es más popular el uso de este servicio. Esto permite un mejor entendimiendo de la población y posibilita que la publicidad esté dirigida a ciertos grupos de edad (como por ejemplo, promover este servicio entre los jóvenes).\n",
    "\n",
    "\\\n",
    "**Datos necesarios**:\n",
    "- 'ageRange'\n",
    "\n",
    "\\\n",
    "Procedimiento:\n",
    "- Hacer un map con un lambda para crear una tupla con los días como primer argumento\n",
    "- Hacer un groupByKey para agrupar los viajes por las edades de los usuarios y hacemos un mapValues(sum) para sumar los viajes\n",
    "- Por último, nos quedamos con los valores, que son los viajes por los rangos de edad ordenados de los usuarios más jóvenes a los más mayores, estando primero el tramo de edades desconocidas."
   ]
  },
  {
   "cell_type": "code",
   "execution_count": 20,
   "metadata": {},
   "outputs": [
    {
     "name": "stderr",
     "output_type": "stream",
     "text": [
      "[Stage 60:============================================>           (20 + 4) / 25]\r"
     ]
    },
    {
     "name": "stdout",
     "output_type": "stream",
     "text": [
      "desconocido: 69120\n",
      "0-16: 8434\n",
      "17-18: 5205\n",
      "19-26: 37014\n",
      "27-40: 158278\n",
      "41-65: 71593\n",
      "+66: 1645\n"
     ]
    },
    {
     "name": "stderr",
     "output_type": "stream",
     "text": [
      "                                                                                \r"
     ]
    }
   ],
   "source": [
    "rdd_age = rdd.map(lambda x: (x[5], 1))\\\n",
    "                .groupByKey()\\\n",
    "                .sortByKey()\\\n",
    "                .mapValues(sum)\\\n",
    "                .values()\n",
    "\n",
    "age_num_usage = rdd_age.collect()\n",
    "\n",
    "age_ranges = ['desconocido', '0-16', '17-18', '19-26', '27-40', '41-65', '+66']\n",
    "\n",
    "for e in zip(age_ranges, age_num_usage):\n",
    "    print(f'{e[0]}: {e[1]}')"
   ]
  },
  {
   "cell_type": "code",
   "execution_count": 15,
   "metadata": {},
   "outputs": [
    {
     "data": {
      "image/png": "[encoded data removed]",
      "text/plain": [
       "<Figure size 720x360 with 1 Axes>"
      ]
     },
     "metadata": {
      "needs_background": "light"
     },
     "output_type": "display_data"
    }
   ],
   "source": [
    "plt.figure(figsize=(10,5))\n",
    "plt.bar(age_ranges, age_num_usage)\n",
    "plt.ylabel('Número de usos')\n",
    "plt.xlabel('Rango de edad')\n",
    "plt.title('Uso por edades')\n",
    "\n",
    "plt.show()"
   ]
  },
  {
   "cell_type": "markdown",
   "metadata": {},
   "source": [
    "Al interpretar esta gráfica se puede ver que el rango de edades que hace un mayor uso de biciMAD con una diferencia considerable es de 27 a 40 años, duplicando los viajes del siguiente grupo.\n",
    "\n",
    "De los usos de los que no se puede determinar el rango de edad pueden pertenecer a movimientos que correspondan a operarios de la empresa (para realizar reparaciones por ejemplo) o de usuarios de los que no se disponga este tipo de información."
   ]
  }
 ],
 "metadata": {
  "interpreter": {
   "hash": "e7370f93d1d0cde622a1f8e1c04877d8463912d04d973331ad4851f04de6915a"
  },
  "kernelspec": {
   "display_name": "Python 3 (ipykernel)",
   "language": "python",
   "name": "python3"
  },
  "language_info": {
   "codemirror_mode": {
    "name": "ipython",
    "version": 3
   },
   "file_extension": ".py",
   "mimetype": "text/x-python",
   "name": "python",
   "nbconvert_exporter": "python",
   "pygments_lexer": "ipython3",
   "version": "3.10.4"
  }
 },
 "nbformat": 4,
 "nbformat_minor": 4
}
